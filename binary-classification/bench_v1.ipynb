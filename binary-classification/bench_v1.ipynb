{
 "cells": [
  {
   "cell_type": "code",
   "execution_count": 1,
   "metadata": {},
   "outputs": [],
   "source": [
    "import pandas as pd\n",
    "import numpy as np\n",
    "import json\n",
    "import matplotlib.pyplot as plt"
   ]
  },
  {
   "cell_type": "code",
   "execution_count": 2,
   "metadata": {},
   "outputs": [],
   "source": [
    "dataset_names = [\n",
    "         'adult',\n",
    "         'Amazon_employee_access',\n",
    "         'bank-marketing',\n",
    "         'Click_prediction_small',\n",
    "         'credit-g',\n",
    "         ]"
   ]
  },
  {
   "cell_type": "code",
   "execution_count": 3,
   "metadata": {},
   "outputs": [],
   "source": [
    "auto_ml_names = [\n",
    "    'Auto_ml', \n",
    "    'h2o', \n",
    "    'tpot', \n",
    "    'catboost-default',\n",
    "    'lightgbm-default',\n",
    "    'lightgbm-opt',\n",
    "    ]"
   ]
  },
  {
   "cell_type": "code",
   "execution_count": 4,
   "metadata": {},
   "outputs": [],
   "source": [
    "METRIC = 'AUC'\n",
    "metrics = ['AUC', 'log_loss', 'Accuracy']"
   ]
  },
  {
   "cell_type": "code",
   "execution_count": 5,
   "metadata": {},
   "outputs": [],
   "source": [
    "bench_result = {}\n",
    "for name in auto_ml_names:\n",
    "    bench_result[name] = 0"
   ]
  },
  {
   "cell_type": "code",
   "execution_count": 26,
   "metadata": {},
   "outputs": [
    {
     "output_type": "stream",
     "name": "stdout",
     "text": "adult\nAmazon_employee_access\nbank-marketing\nClick_prediction_small\ncredit-g\n"
    }
   ],
   "source": [
    "total_place = pd.DataFrame()\n",
    "total_score = pd.DataFrame()\n",
    "total_score_std = pd.DataFrame()\n",
    "#for metric in metrics:\n",
    "metric = 'AUC'\n",
    "bench_result = {}\n",
    "\n",
    "for name in auto_ml_names:\n",
    "    bench_result[name] = 0\n",
    "for dataset_name in dataset_names:\n",
    "    print(dataset_name)\n",
    "    bench_auc = []\n",
    "    bench_auc_std = []\n",
    "    for AUTOML in auto_ml_names:\n",
    "        result = pd.read_csv(f'./frameworks/{AUTOML}/result/{dataset_name}_{AUTOML}_metrics.csv')\n",
    "        bench_auc.append(result[metric].mean())\n",
    "        bench_auc_std.append(result[metric].std())\n",
    "\n",
    "    res = pd.DataFrame(bench_auc, columns=[metric,], index=auto_ml_names).sort_values(by=[metric])\n",
    "    res_std = pd.DataFrame(bench_auc_std, columns=[metric+'_std',], index=auto_ml_names)\n",
    "    for i, name in enumerate(res.index):\n",
    "        bench_result[res.index[i]] += i+1\n",
    "#total_place.append(bench_result)\n",
    "        bench = pd.io.json.json_normalize(bench_result,).T\n",
    "        bench.columns = [f'{metric} place']\n",
    "    res.columns=[dataset_name,]\n",
    "    total_score = pd.concat([total_score, res], axis=1, sort=False)\n",
    "    total_score = pd.concat([total_score, res_std], axis=1, sort=False)\n",
    "\n",
    "    \n",
    "total_place = pd.concat([total_place, bench], axis=1, sort=False)\n",
    "        #bench = bench.sort_values(by=f'{metric} place', ascending=False)\n",
    "        #bench.to_csv(f'{metric}_place.csv',)\n",
    "#result.head(5)"
   ]
  },
  {
   "cell_type": "code",
   "execution_count": 27,
   "metadata": {},
   "outputs": [
    {
     "output_type": "execute_result",
     "data": {
      "text/plain": "                    adult   AUC_std  Amazon_employee_access   AUC_std  \\\ntpot              0.91260  0.002619                 0.78954  0.033911   \nh2o               0.91428  0.002050                 0.85510  0.002957   \nlightgbm-default  0.91444  0.003686                 0.84626  0.011325   \nAuto_ml           0.91466  0.003276                 0.82860  0.014350   \nlightgbm-opt      0.91482  0.003590                 0.85770  0.008034   \ncatboost-default  0.91498  0.002952                 0.84666  0.009016   \n\n                  bank-marketing   AUC_std  Click_prediction_small   AUC_std  \\\ntpot                     0.84918  0.007032                 0.71136  0.004526   \nh2o                      0.93710  0.003676                 0.72056  0.004140   \nlightgbm-default         0.93646  0.003448                 0.71598  0.005708   \nAuto_ml                  0.90354  0.005755                 0.71884  0.006636   \nlightgbm-opt             0.93848  0.003045                 0.71728  0.004390   \ncatboost-default         0.93792  0.004034                 0.71912  0.005836   \n\n                  credit-g   AUC_std  \ntpot               0.78164  0.018928  \nh2o                0.77646  0.047901  \nlightgbm-default   0.77954  0.027359  \nAuto_ml            0.79252  0.022704  \nlightgbm-opt       0.78524  0.031052  \ncatboost-default   0.78374  0.022156  ",
      "text/html": "<div>\n<style scoped>\n    .dataframe tbody tr th:only-of-type {\n        vertical-align: middle;\n    }\n\n    .dataframe tbody tr th {\n        vertical-align: top;\n    }\n\n    .dataframe thead th {\n        text-align: right;\n    }\n</style>\n<table border=\"1\" class=\"dataframe\">\n  <thead>\n    <tr style=\"text-align: right;\">\n      <th></th>\n      <th>adult</th>\n      <th>AUC_std</th>\n      <th>Amazon_employee_access</th>\n      <th>AUC_std</th>\n      <th>bank-marketing</th>\n      <th>AUC_std</th>\n      <th>Click_prediction_small</th>\n      <th>AUC_std</th>\n      <th>credit-g</th>\n      <th>AUC_std</th>\n    </tr>\n  </thead>\n  <tbody>\n    <tr>\n      <td>tpot</td>\n      <td>0.91260</td>\n      <td>0.002619</td>\n      <td>0.78954</td>\n      <td>0.033911</td>\n      <td>0.84918</td>\n      <td>0.007032</td>\n      <td>0.71136</td>\n      <td>0.004526</td>\n      <td>0.78164</td>\n      <td>0.018928</td>\n    </tr>\n    <tr>\n      <td>h2o</td>\n      <td>0.91428</td>\n      <td>0.002050</td>\n      <td>0.85510</td>\n      <td>0.002957</td>\n      <td>0.93710</td>\n      <td>0.003676</td>\n      <td>0.72056</td>\n      <td>0.004140</td>\n      <td>0.77646</td>\n      <td>0.047901</td>\n    </tr>\n    <tr>\n      <td>lightgbm-default</td>\n      <td>0.91444</td>\n      <td>0.003686</td>\n      <td>0.84626</td>\n      <td>0.011325</td>\n      <td>0.93646</td>\n      <td>0.003448</td>\n      <td>0.71598</td>\n      <td>0.005708</td>\n      <td>0.77954</td>\n      <td>0.027359</td>\n    </tr>\n    <tr>\n      <td>Auto_ml</td>\n      <td>0.91466</td>\n      <td>0.003276</td>\n      <td>0.82860</td>\n      <td>0.014350</td>\n      <td>0.90354</td>\n      <td>0.005755</td>\n      <td>0.71884</td>\n      <td>0.006636</td>\n      <td>0.79252</td>\n      <td>0.022704</td>\n    </tr>\n    <tr>\n      <td>lightgbm-opt</td>\n      <td>0.91482</td>\n      <td>0.003590</td>\n      <td>0.85770</td>\n      <td>0.008034</td>\n      <td>0.93848</td>\n      <td>0.003045</td>\n      <td>0.71728</td>\n      <td>0.004390</td>\n      <td>0.78524</td>\n      <td>0.031052</td>\n    </tr>\n    <tr>\n      <td>catboost-default</td>\n      <td>0.91498</td>\n      <td>0.002952</td>\n      <td>0.84666</td>\n      <td>0.009016</td>\n      <td>0.93792</td>\n      <td>0.004034</td>\n      <td>0.71912</td>\n      <td>0.005836</td>\n      <td>0.78374</td>\n      <td>0.022156</td>\n    </tr>\n  </tbody>\n</table>\n</div>"
     },
     "metadata": {},
     "execution_count": 27
    }
   ],
   "source": [
    "total_score"
   ]
  },
  {
   "cell_type": "code",
   "execution_count": 28,
   "metadata": {},
   "outputs": [],
   "source": [
    "total_score.to_csv('total_score.csv')"
   ]
  },
  {
   "cell_type": "code",
   "execution_count": 25,
   "metadata": {},
   "outputs": [],
   "source": [
    "total_score_std.to_csv('total_score_std.csv')"
   ]
  },
  {
   "cell_type": "code",
   "execution_count": 13,
   "metadata": {},
   "outputs": [
    {
     "output_type": "execute_result",
     "data": {
      "text/plain": "                  AUC place\nAuto_ml                  18\nh2o                      18\ntpot                      7\ncatboost-default         24\nlightgbm-default         13\nlightgbm-opt             25",
      "text/html": "<div>\n<style scoped>\n    .dataframe tbody tr th:only-of-type {\n        vertical-align: middle;\n    }\n\n    .dataframe tbody tr th {\n        vertical-align: top;\n    }\n\n    .dataframe thead th {\n        text-align: right;\n    }\n</style>\n<table border=\"1\" class=\"dataframe\">\n  <thead>\n    <tr style=\"text-align: right;\">\n      <th></th>\n      <th>AUC place</th>\n    </tr>\n  </thead>\n  <tbody>\n    <tr>\n      <td>Auto_ml</td>\n      <td>18</td>\n    </tr>\n    <tr>\n      <td>h2o</td>\n      <td>18</td>\n    </tr>\n    <tr>\n      <td>tpot</td>\n      <td>7</td>\n    </tr>\n    <tr>\n      <td>catboost-default</td>\n      <td>24</td>\n    </tr>\n    <tr>\n      <td>lightgbm-default</td>\n      <td>13</td>\n    </tr>\n    <tr>\n      <td>lightgbm-opt</td>\n      <td>25</td>\n    </tr>\n  </tbody>\n</table>\n</div>"
     },
     "metadata": {},
     "execution_count": 13
    }
   ],
   "source": [
    "total_place"
   ]
  },
  {
   "cell_type": "code",
   "execution_count": 14,
   "metadata": {},
   "outputs": [
    {
     "output_type": "execute_result",
     "data": {
      "text/plain": "                      AUC\nh2o               0.77646\nlightgbm-default  0.77954\ntpot              0.78164\ncatboost-default  0.78374\nlightgbm-opt      0.78524\nAuto_ml           0.79252",
      "text/html": "<div>\n<style scoped>\n    .dataframe tbody tr th:only-of-type {\n        vertical-align: middle;\n    }\n\n    .dataframe tbody tr th {\n        vertical-align: top;\n    }\n\n    .dataframe thead th {\n        text-align: right;\n    }\n</style>\n<table border=\"1\" class=\"dataframe\">\n  <thead>\n    <tr style=\"text-align: right;\">\n      <th></th>\n      <th>AUC</th>\n    </tr>\n  </thead>\n  <tbody>\n    <tr>\n      <td>h2o</td>\n      <td>0.77646</td>\n    </tr>\n    <tr>\n      <td>lightgbm-default</td>\n      <td>0.77954</td>\n    </tr>\n    <tr>\n      <td>tpot</td>\n      <td>0.78164</td>\n    </tr>\n    <tr>\n      <td>catboost-default</td>\n      <td>0.78374</td>\n    </tr>\n    <tr>\n      <td>lightgbm-opt</td>\n      <td>0.78524</td>\n    </tr>\n    <tr>\n      <td>Auto_ml</td>\n      <td>0.79252</td>\n    </tr>\n  </tbody>\n</table>\n</div>"
     },
     "metadata": {},
     "execution_count": 14
    }
   ],
   "source": [
    "res"
   ]
  },
  {
   "cell_type": "code",
   "execution_count": null,
   "metadata": {},
   "outputs": [],
   "source": []
  },
  {
   "cell_type": "code",
   "execution_count": 16,
   "metadata": {},
   "outputs": [
    {
     "output_type": "execute_result",
     "data": {
      "text/plain": "{'Auto_ml': 18,\n 'h2o': 18,\n 'tpot': 7,\n 'catboost-default': 24,\n 'lightgbm-default': 13,\n 'lightgbm-opt': 25}"
     },
     "metadata": {},
     "execution_count": 16
    }
   ],
   "source": [
    "bench_result"
   ]
  },
  {
   "cell_type": "code",
   "execution_count": 17,
   "metadata": {},
   "outputs": [],
   "source": [
    "bench = pd.io.json.json_normalize(bench_result,).T"
   ]
  },
  {
   "cell_type": "code",
   "execution_count": 18,
   "metadata": {},
   "outputs": [],
   "source": [
    "bench.columns = ['AUC place']"
   ]
  },
  {
   "cell_type": "code",
   "execution_count": 19,
   "metadata": {},
   "outputs": [],
   "source": [
    "bench = bench.sort_values(by='AUC place', ascending=False)"
   ]
  },
  {
   "cell_type": "code",
   "execution_count": 44,
   "metadata": {},
   "outputs": [],
   "source": [
    "# import matplotlib.pyplot as plt\n",
    "# plt.style.use('bmh')\n",
    "# #import seaborn as sns\n",
    "# #sns.set_style(style=\"darkgrid\")"
   ]
  },
  {
   "cell_type": "code",
   "execution_count": 43,
   "metadata": {},
   "outputs": [],
   "source": [
    "#plt.rcdefaults()\n",
    "# fig, ax = plt.subplots()\n",
    "\n",
    "# colors = color=['tab:blue', 'firebric',]\n",
    "\n",
    "# ax.barh(bench.index, bench['AUC place'], align='center', color=colors,)\n",
    "# ax.invert_yaxis()\n",
    "# plt.show()"
   ]
  },
  {
   "cell_type": "code",
   "execution_count": 45,
   "metadata": {},
   "outputs": [
    {
     "output_type": "execute_result",
     "data": {
      "text/plain": "                  AUC place\nlightgbm-opt             25\ncatboost-default         24\nAuto_ml                  18\nh2o                      18\nlightgbm-default         13\ntpot                      7",
      "text/html": "<div>\n<style scoped>\n    .dataframe tbody tr th:only-of-type {\n        vertical-align: middle;\n    }\n\n    .dataframe tbody tr th {\n        vertical-align: top;\n    }\n\n    .dataframe thead th {\n        text-align: right;\n    }\n</style>\n<table border=\"1\" class=\"dataframe\">\n  <thead>\n    <tr style=\"text-align: right;\">\n      <th></th>\n      <th>AUC place</th>\n    </tr>\n  </thead>\n  <tbody>\n    <tr>\n      <td>lightgbm-opt</td>\n      <td>25</td>\n    </tr>\n    <tr>\n      <td>catboost-default</td>\n      <td>24</td>\n    </tr>\n    <tr>\n      <td>Auto_ml</td>\n      <td>18</td>\n    </tr>\n    <tr>\n      <td>h2o</td>\n      <td>18</td>\n    </tr>\n    <tr>\n      <td>lightgbm-default</td>\n      <td>13</td>\n    </tr>\n    <tr>\n      <td>tpot</td>\n      <td>7</td>\n    </tr>\n  </tbody>\n</table>\n</div>"
     },
     "metadata": {},
     "execution_count": 45
    }
   ],
   "source": [
    "bench.to_csv('auc_place', index=False,)"
   ]
  },
  {
   "cell_type": "code",
   "execution_count": null,
   "metadata": {},
   "outputs": [],
   "source": []
  }
 ],
 "metadata": {
  "language_info": {
   "name": "python",
   "codemirror_mode": {
    "name": "ipython",
    "version": 3
   },
   "version": "3.7.4-final"
  },
  "orig_nbformat": 2,
  "file_extension": ".py",
  "mimetype": "text/x-python",
  "name": "python",
  "npconvert_exporter": "python",
  "pygments_lexer": "ipython3",
  "version": 3,
  "kernelspec": {
   "name": "python3",
   "display_name": "Python 3"
  }
 },
 "nbformat": 4,
 "nbformat_minor": 2
}