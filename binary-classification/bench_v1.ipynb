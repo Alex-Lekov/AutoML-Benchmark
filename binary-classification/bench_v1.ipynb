{
 "cells": [
  {
   "cell_type": "code",
   "execution_count": 1,
   "metadata": {},
   "outputs": [],
   "source": [
    "import pandas as pd\n",
    "import numpy as np\n",
    "import json\n",
    "import matplotlib.pyplot as plt"
   ]
  },
  {
   "cell_type": "code",
   "execution_count": 2,
   "metadata": {},
   "outputs": [],
   "source": [
    "dataset_names = [\n",
    "         'adult',\n",
    "         'Amazon_employee_access',\n",
    "         'bank-marketing',\n",
    "         'Click_prediction_small',\n",
    "         'credit-g',\n",
    "         ]"
   ]
  },
  {
   "cell_type": "code",
   "execution_count": 3,
   "metadata": {},
   "outputs": [],
   "source": [
    "auto_ml_names = [\n",
    "    'Auto_ml', \n",
    "    'automl_alex',\n",
    "    'h2o', \n",
    "    'tpot', \n",
    "    'catboost-default',\n",
    "    'lightgbm-default',\n",
    "    'lightgbm-opt',\n",
    "    ]"
   ]
  },
  {
   "cell_type": "code",
   "execution_count": 4,
   "metadata": {},
   "outputs": [],
   "source": [
    "METRIC = 'AUC'\n",
    "metrics = ['AUC', 'log_loss', 'Accuracy']"
   ]
  },
  {
   "cell_type": "code",
   "execution_count": 5,
   "metadata": {},
   "outputs": [],
   "source": [
    "bench_result = {}\n",
    "for name in auto_ml_names:\n",
    "    bench_result[name] = 0"
   ]
  },
  {
   "cell_type": "code",
   "execution_count": 6,
   "metadata": {},
   "outputs": [
    {
     "output_type": "stream",
     "name": "stdout",
     "text": "adult\nAmazon_employee_access\nbank-marketing\nClick_prediction_small\ncredit-g\nadult\nAmazon_employee_access\nbank-marketing\nClick_prediction_small\ncredit-g\nadult\nAmazon_employee_access\nbank-marketing\nClick_prediction_small\ncredit-g\n"
    }
   ],
   "source": [
    "total_place = pd.DataFrame()\n",
    "for metric in metrics:\n",
    "    bench_result = {}\n",
    "    for name in auto_ml_names:\n",
    "        bench_result[name] = 0\n",
    "    for dataset_name in dataset_names:\n",
    "        print(dataset_name)\n",
    "        bench_auc = []\n",
    "        for AUTOML in auto_ml_names:\n",
    "            result = pd.read_csv(f'./frameworks/{AUTOML}/result/{dataset_name}_{AUTOML}_metrics.csv')\n",
    "            bench_auc.append(result[metric].mean())\n",
    "        res = pd.DataFrame(bench_auc, columns=[METRIC,], index=auto_ml_names).sort_values(by=[METRIC])\n",
    "        for i, name in enumerate(res.index):\n",
    "            bench_result[res.index[i]] += i+1\n",
    "    #total_place.append(bench_result)\n",
    "            bench = pd.io.json.json_normalize(bench_result,).T\n",
    "            bench.columns = [f'{metric} place']\n",
    "    total_place = pd.concat([total_place, bench], axis=1, sort=False)\n",
    "            #bench = bench.sort_values(by=f'{metric} place', ascending=False)\n",
    "            #bench.to_csv(f'{metric}_place.csv',)\n",
    "#result.head(5)"
   ]
  },
  {
   "cell_type": "code",
   "execution_count": 7,
   "metadata": {},
   "outputs": [
    {
     "output_type": "execute_result",
     "data": {
      "text/plain": "                  AUC place  log_loss place  Accuracy place\nAuto_ml                  19              20              20\nautoml_alex              30              19              25\nh2o                      20              27              13\ntpot                      7              30               7\ncatboost-default         25               8              25\nlightgbm-default         13              20              27\nlightgbm-opt             26              16              23",
      "text/html": "<div>\n<style scoped>\n    .dataframe tbody tr th:only-of-type {\n        vertical-align: middle;\n    }\n\n    .dataframe tbody tr th {\n        vertical-align: top;\n    }\n\n    .dataframe thead th {\n        text-align: right;\n    }\n</style>\n<table border=\"1\" class=\"dataframe\">\n  <thead>\n    <tr style=\"text-align: right;\">\n      <th></th>\n      <th>AUC place</th>\n      <th>log_loss place</th>\n      <th>Accuracy place</th>\n    </tr>\n  </thead>\n  <tbody>\n    <tr>\n      <th>Auto_ml</th>\n      <td>19</td>\n      <td>20</td>\n      <td>20</td>\n    </tr>\n    <tr>\n      <th>automl_alex</th>\n      <td>30</td>\n      <td>19</td>\n      <td>25</td>\n    </tr>\n    <tr>\n      <th>h2o</th>\n      <td>20</td>\n      <td>27</td>\n      <td>13</td>\n    </tr>\n    <tr>\n      <th>tpot</th>\n      <td>7</td>\n      <td>30</td>\n      <td>7</td>\n    </tr>\n    <tr>\n      <th>catboost-default</th>\n      <td>25</td>\n      <td>8</td>\n      <td>25</td>\n    </tr>\n    <tr>\n      <th>lightgbm-default</th>\n      <td>13</td>\n      <td>20</td>\n      <td>27</td>\n    </tr>\n    <tr>\n      <th>lightgbm-opt</th>\n      <td>26</td>\n      <td>16</td>\n      <td>23</td>\n    </tr>\n  </tbody>\n</table>\n</div>"
     },
     "metadata": {},
     "execution_count": 7
    }
   ],
   "source": [
    "total_place"
   ]
  },
  {
   "cell_type": "code",
   "execution_count": 44,
   "metadata": {},
   "outputs": [
    {
     "output_type": "execute_result",
     "data": {
      "text/plain": "{'Auto_ml': 20,\n 'automl_alex': 25,\n 'h2o': 13,\n 'tpot': 7,\n 'catboost-default': 25,\n 'lightgbm-default': 27,\n 'lightgbm-opt': 23}"
     },
     "metadata": {},
     "execution_count": 44
    }
   ],
   "source": [
    "bench_result"
   ]
  },
  {
   "cell_type": "code",
   "execution_count": 17,
   "metadata": {},
   "outputs": [],
   "source": [
    "bench = pd.io.json.json_normalize(bench_result,).T"
   ]
  },
  {
   "cell_type": "code",
   "execution_count": 18,
   "metadata": {},
   "outputs": [],
   "source": [
    "bench.columns = ['AUC place']"
   ]
  },
  {
   "cell_type": "code",
   "execution_count": 19,
   "metadata": {},
   "outputs": [],
   "source": [
    "bench = bench.sort_values(by='AUC place', ascending=False)"
   ]
  },
  {
   "cell_type": "code",
   "execution_count": 44,
   "metadata": {},
   "outputs": [],
   "source": [
    "# import matplotlib.pyplot as plt\n",
    "# plt.style.use('bmh')\n",
    "# #import seaborn as sns\n",
    "# #sns.set_style(style=\"darkgrid\")"
   ]
  },
  {
   "cell_type": "code",
   "execution_count": 43,
   "metadata": {},
   "outputs": [],
   "source": [
    "#plt.rcdefaults()\n",
    "# fig, ax = plt.subplots()\n",
    "\n",
    "# colors = color=['tab:blue', 'firebric',]\n",
    "\n",
    "# ax.barh(bench.index, bench['AUC place'], align='center', color=colors,)\n",
    "# ax.invert_yaxis()\n",
    "# plt.show()"
   ]
  },
  {
   "cell_type": "code",
   "execution_count": 45,
   "metadata": {},
   "outputs": [
    {
     "output_type": "execute_result",
     "data": {
      "text/plain": "                  AUC place\nlightgbm-opt             25\ncatboost-default         24\nAuto_ml                  18\nh2o                      18\nlightgbm-default         13\ntpot                      7",
      "text/html": "<div>\n<style scoped>\n    .dataframe tbody tr th:only-of-type {\n        vertical-align: middle;\n    }\n\n    .dataframe tbody tr th {\n        vertical-align: top;\n    }\n\n    .dataframe thead th {\n        text-align: right;\n    }\n</style>\n<table border=\"1\" class=\"dataframe\">\n  <thead>\n    <tr style=\"text-align: right;\">\n      <th></th>\n      <th>AUC place</th>\n    </tr>\n  </thead>\n  <tbody>\n    <tr>\n      <td>lightgbm-opt</td>\n      <td>25</td>\n    </tr>\n    <tr>\n      <td>catboost-default</td>\n      <td>24</td>\n    </tr>\n    <tr>\n      <td>Auto_ml</td>\n      <td>18</td>\n    </tr>\n    <tr>\n      <td>h2o</td>\n      <td>18</td>\n    </tr>\n    <tr>\n      <td>lightgbm-default</td>\n      <td>13</td>\n    </tr>\n    <tr>\n      <td>tpot</td>\n      <td>7</td>\n    </tr>\n  </tbody>\n</table>\n</div>"
     },
     "metadata": {},
     "execution_count": 45
    }
   ],
   "source": [
    "bench.to_csv('auc_place', index=False,)"
   ]
  },
  {
   "cell_type": "code",
   "execution_count": null,
   "metadata": {},
   "outputs": [],
   "source": []
  }
 ],
 "metadata": {
  "language_info": {
   "name": "python",
   "codemirror_mode": {
    "name": "ipython",
    "version": 3
   },
   "version": "3.7.4-final"
  },
  "orig_nbformat": 2,
  "file_extension": ".py",
  "mimetype": "text/x-python",
  "name": "python",
  "npconvert_exporter": "python",
  "pygments_lexer": "ipython3",
  "version": 3,
  "kernelspec": {
   "name": "python3",
   "display_name": "Python 3"
  }
 },
 "nbformat": 4,
 "nbformat_minor": 2
}