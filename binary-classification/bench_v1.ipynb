{
 "cells": [
  {
   "cell_type": "code",
   "execution_count": 1,
   "metadata": {},
   "outputs": [],
   "source": [
    "import pandas as pd\n",
    "import numpy as np\n",
    "import json\n",
    "import matplotlib.pyplot as plt"
   ]
  },
  {
   "cell_type": "code",
   "execution_count": 2,
   "metadata": {},
   "outputs": [],
   "source": [
    "dataset_names = [\n",
    "         'adult',\n",
    "         'Amazon_employee_access',\n",
    "         'bank-marketing',\n",
    "         'Click_prediction_small',\n",
    "         'credit-g',\n",
    "         ]"
   ]
  },
  {
   "cell_type": "code",
   "execution_count": 3,
   "metadata": {},
   "outputs": [],
   "source": [
    "auto_ml_names = [\n",
    "    'Auto_ml', \n",
    "    'h2o', \n",
    "    'tpot', \n",
    "    'catboost-default',\n",
    "    'lightgbm-default',\n",
    "    'lightgbm-opt',\n",
    "    ]"
   ]
  },
  {
   "cell_type": "code",
   "execution_count": 4,
   "metadata": {},
   "outputs": [],
   "source": [
    "METRIC = 'AUC'\n",
    "metrics = ['AUC', 'log_loss', 'Accuracy']"
   ]
  },
  {
   "cell_type": "code",
   "execution_count": 5,
   "metadata": {},
   "outputs": [],
   "source": [
    "bench_result = {}\n",
    "for name in auto_ml_names:\n",
    "    bench_result[name] = 0"
   ]
  },
  {
   "cell_type": "code",
   "execution_count": 15,
   "metadata": {},
   "outputs": [
    {
     "output_type": "stream",
     "name": "stdout",
     "text": "adult\nAmazon_employee_access\nbank-marketing\nClick_prediction_small\ncredit-g\n"
    }
   ],
   "source": [
    "total_place = pd.DataFrame()\n",
    "total_score = pd.DataFrame()\n",
    "#for metric in metrics:\n",
    "metric = 'AUC'\n",
    "bench_result = {}\n",
    "\n",
    "for name in auto_ml_names:\n",
    "    bench_result[name] = 0\n",
    "for dataset_name in dataset_names:\n",
    "    print(dataset_name)\n",
    "    bench_auc = []\n",
    "    for AUTOML in auto_ml_names:\n",
    "        result = pd.read_csv(f'./frameworks/{AUTOML}/result/{dataset_name}_{AUTOML}_metrics.csv')\n",
    "        bench_auc.append(result[metric].mean())\n",
    "    res = pd.DataFrame(bench_auc, columns=[metric,], index=auto_ml_names).sort_values(by=[metric])\n",
    "    for i, name in enumerate(res.index):\n",
    "        bench_result[res.index[i]] += i+1\n",
    "#total_place.append(bench_result)\n",
    "        bench = pd.io.json.json_normalize(bench_result,).T\n",
    "        bench.columns = [f'{metric} place']\n",
    "    res.columns=[dataset_name,]\n",
    "    total_score = pd.concat([total_score, res], axis=1, sort=False)\n",
    "\n",
    "    \n",
    "total_place = pd.concat([total_place, bench], axis=1, sort=False)\n",
    "        #bench = bench.sort_values(by=f'{metric} place', ascending=False)\n",
    "        #bench.to_csv(f'{metric}_place.csv',)\n",
    "#result.head(5)"
   ]
  },
  {
   "cell_type": "code",
   "execution_count": 21,
   "metadata": {},
   "outputs": [],
   "source": [
    "total_score.to_csv('total_score.csv')"
   ]
  },
  {
   "cell_type": "code",
   "execution_count": 13,
   "metadata": {},
   "outputs": [
    {
     "output_type": "execute_result",
     "data": {
      "text/plain": "                  AUC place\nAuto_ml                  18\nh2o                      18\ntpot                      7\ncatboost-default         24\nlightgbm-default         13\nlightgbm-opt             25",
      "text/html": "<div>\n<style scoped>\n    .dataframe tbody tr th:only-of-type {\n        vertical-align: middle;\n    }\n\n    .dataframe tbody tr th {\n        vertical-align: top;\n    }\n\n    .dataframe thead th {\n        text-align: right;\n    }\n</style>\n<table border=\"1\" class=\"dataframe\">\n  <thead>\n    <tr style=\"text-align: right;\">\n      <th></th>\n      <th>AUC place</th>\n    </tr>\n  </thead>\n  <tbody>\n    <tr>\n      <td>Auto_ml</td>\n      <td>18</td>\n    </tr>\n    <tr>\n      <td>h2o</td>\n      <td>18</td>\n    </tr>\n    <tr>\n      <td>tpot</td>\n      <td>7</td>\n    </tr>\n    <tr>\n      <td>catboost-default</td>\n      <td>24</td>\n    </tr>\n    <tr>\n      <td>lightgbm-default</td>\n      <td>13</td>\n    </tr>\n    <tr>\n      <td>lightgbm-opt</td>\n      <td>25</td>\n    </tr>\n  </tbody>\n</table>\n</div>"
     },
     "metadata": {},
     "execution_count": 13
    }
   ],
   "source": [
    "total_place"
   ]
  },
  {
   "cell_type": "code",
   "execution_count": 14,
   "metadata": {},
   "outputs": [
    {
     "output_type": "execute_result",
     "data": {
      "text/plain": "                      AUC\nh2o               0.77646\nlightgbm-default  0.77954\ntpot              0.78164\ncatboost-default  0.78374\nlightgbm-opt      0.78524\nAuto_ml           0.79252",
      "text/html": "<div>\n<style scoped>\n    .dataframe tbody tr th:only-of-type {\n        vertical-align: middle;\n    }\n\n    .dataframe tbody tr th {\n        vertical-align: top;\n    }\n\n    .dataframe thead th {\n        text-align: right;\n    }\n</style>\n<table border=\"1\" class=\"dataframe\">\n  <thead>\n    <tr style=\"text-align: right;\">\n      <th></th>\n      <th>AUC</th>\n    </tr>\n  </thead>\n  <tbody>\n    <tr>\n      <td>h2o</td>\n      <td>0.77646</td>\n    </tr>\n    <tr>\n      <td>lightgbm-default</td>\n      <td>0.77954</td>\n    </tr>\n    <tr>\n      <td>tpot</td>\n      <td>0.78164</td>\n    </tr>\n    <tr>\n      <td>catboost-default</td>\n      <td>0.78374</td>\n    </tr>\n    <tr>\n      <td>lightgbm-opt</td>\n      <td>0.78524</td>\n    </tr>\n    <tr>\n      <td>Auto_ml</td>\n      <td>0.79252</td>\n    </tr>\n  </tbody>\n</table>\n</div>"
     },
     "metadata": {},
     "execution_count": 14
    }
   ],
   "source": [
    "res"
   ]
  },
  {
   "cell_type": "code",
   "execution_count": null,
   "metadata": {},
   "outputs": [],
   "source": []
  },
  {
   "cell_type": "code",
   "execution_count": 16,
   "metadata": {},
   "outputs": [
    {
     "output_type": "execute_result",
     "data": {
      "text/plain": "{'Auto_ml': 18,\n 'h2o': 18,\n 'tpot': 7,\n 'catboost-default': 24,\n 'lightgbm-default': 13,\n 'lightgbm-opt': 25}"
     },
     "metadata": {},
     "execution_count": 16
    }
   ],
   "source": [
    "bench_result"
   ]
  },
  {
   "cell_type": "code",
   "execution_count": 17,
   "metadata": {},
   "outputs": [],
   "source": [
    "bench = pd.io.json.json_normalize(bench_result,).T"
   ]
  },
  {
   "cell_type": "code",
   "execution_count": 18,
   "metadata": {},
   "outputs": [],
   "source": [
    "bench.columns = ['AUC place']"
   ]
  },
  {
   "cell_type": "code",
   "execution_count": 19,
   "metadata": {},
   "outputs": [],
   "source": [
    "bench = bench.sort_values(by='AUC place', ascending=False)"
   ]
  },
  {
   "cell_type": "code",
   "execution_count": 44,
   "metadata": {},
   "outputs": [],
   "source": [
    "# import matplotlib.pyplot as plt\n",
    "# plt.style.use('bmh')\n",
    "# #import seaborn as sns\n",
    "# #sns.set_style(style=\"darkgrid\")"
   ]
  },
  {
   "cell_type": "code",
   "execution_count": 43,
   "metadata": {},
   "outputs": [],
   "source": [
    "#plt.rcdefaults()\n",
    "# fig, ax = plt.subplots()\n",
    "\n",
    "# colors = color=['tab:blue', 'firebric',]\n",
    "\n",
    "# ax.barh(bench.index, bench['AUC place'], align='center', color=colors,)\n",
    "# ax.invert_yaxis()\n",
    "# plt.show()"
   ]
  },
  {
   "cell_type": "code",
   "execution_count": 45,
   "metadata": {},
   "outputs": [
    {
     "output_type": "execute_result",
     "data": {
      "text/plain": "                  AUC place\nlightgbm-opt             25\ncatboost-default         24\nAuto_ml                  18\nh2o                      18\nlightgbm-default         13\ntpot                      7",
      "text/html": "<div>\n<style scoped>\n    .dataframe tbody tr th:only-of-type {\n        vertical-align: middle;\n    }\n\n    .dataframe tbody tr th {\n        vertical-align: top;\n    }\n\n    .dataframe thead th {\n        text-align: right;\n    }\n</style>\n<table border=\"1\" class=\"dataframe\">\n  <thead>\n    <tr style=\"text-align: right;\">\n      <th></th>\n      <th>AUC place</th>\n    </tr>\n  </thead>\n  <tbody>\n    <tr>\n      <td>lightgbm-opt</td>\n      <td>25</td>\n    </tr>\n    <tr>\n      <td>catboost-default</td>\n      <td>24</td>\n    </tr>\n    <tr>\n      <td>Auto_ml</td>\n      <td>18</td>\n    </tr>\n    <tr>\n      <td>h2o</td>\n      <td>18</td>\n    </tr>\n    <tr>\n      <td>lightgbm-default</td>\n      <td>13</td>\n    </tr>\n    <tr>\n      <td>tpot</td>\n      <td>7</td>\n    </tr>\n  </tbody>\n</table>\n</div>"
     },
     "metadata": {},
     "execution_count": 45
    }
   ],
   "source": [
    "bench.to_csv('auc_place', index=False,)"
   ]
  },
  {
   "cell_type": "code",
   "execution_count": null,
   "metadata": {},
   "outputs": [],
   "source": []
  }
 ],
 "metadata": {
  "language_info": {
   "name": "python",
   "codemirror_mode": {
    "name": "ipython",
    "version": 3
   },
   "version": "3.7.4-final"
  },
  "orig_nbformat": 2,
  "file_extension": ".py",
  "mimetype": "text/x-python",
  "name": "python",
  "npconvert_exporter": "python",
  "pygments_lexer": "ipython3",
  "version": 3,
  "kernelspec": {
   "name": "python3",
   "display_name": "Python 3"
  }
 },
 "nbformat": 4,
 "nbformat_minor": 2
}