{
 "cells": [
  {
   "cell_type": "code",
   "execution_count": 8,
   "metadata": {},
   "outputs": [],
   "source": [
    "import pandas as pd\n",
    "import numpy as np\n",
    "import json\n",
    "#from category_encoders import OneHotEncoder\n",
    "#from alexautoml import *"
   ]
  },
  {
   "cell_type": "code",
   "execution_count": 9,
   "metadata": {},
   "outputs": [],
   "source": [
    "dataset_names = [\n",
    "         'adult',\n",
    "        # 'airlines',\n",
    "         'Amazon_employee_access',\n",
    "         'bank-marketing',\n",
    "         'Click_prediction_small',\n",
    "         'credit-g',\n",
    "         ]"
   ]
  },
  {
   "cell_type": "code",
   "execution_count": 10,
   "metadata": {},
   "outputs": [],
   "source": [
    "auto_ml_names = [\n",
    "    'Auto_ml', \n",
    "    #'autosklearn', \n",
    "    'h2o', \n",
    "    'tpot', \n",
    "    'catboost-default',\n",
    "    'lightgbm-default',\n",
    "    'lightgbm-opt',\n",
    "    ]"
   ]
  },
  {
   "cell_type": "code",
   "execution_count": 11,
   "metadata": {},
   "outputs": [],
   "source": [
    "METRIC = 'AUC'"
   ]
  },
  {
   "cell_type": "code",
   "execution_count": 12,
   "metadata": {},
   "outputs": [],
   "source": [
    "bench_result = {}\n",
    "for name in auto_ml_names:\n",
    "    bench_result[name] = 0"
   ]
  },
  {
   "cell_type": "code",
   "execution_count": 13,
   "metadata": {},
   "outputs": [
    {
     "output_type": "stream",
     "name": "stdout",
     "text": "adult\nAmazon_employee_access\nbank-marketing\nClick_prediction_small\ncredit-g\n"
    }
   ],
   "source": [
    "for dataset_name in dataset_names:\n",
    "    print(dataset_name)\n",
    "    bench_auc = []\n",
    "    for AUTOML in auto_ml_names:\n",
    "        result = pd.read_csv(f'./automl-benchmark/binary-classification/frameworks/{AUTOML}/result/{dataset_name}_{AUTOML}_metrics.csv')\n",
    "        bench_auc.append(result.AUC.mean())\n",
    "    res = pd.DataFrame(bench_auc, columns=[METRIC,], index=auto_ml_names).sort_values(by=[METRIC])\n",
    "    for i, name in enumerate(res.index):\n",
    "        bench_result[res.index[i]] += i+1\n",
    "#result.head(5)"
   ]
  },
  {
   "cell_type": "code",
   "execution_count": 14,
   "metadata": {},
   "outputs": [
    {
     "output_type": "execute_result",
     "data": {
      "text/plain": "{'Auto_ml': 18,\n 'h2o': 18,\n 'tpot': 7,\n 'catboost-default': 24,\n 'lightgbm-default': 13,\n 'lightgbm-opt': 25}"
     },
     "metadata": {},
     "execution_count": 14
    }
   ],
   "source": [
    "bench_result"
   ]
  },
  {
   "cell_type": "code",
   "execution_count": 15,
   "metadata": {},
   "outputs": [
    {
     "output_type": "execute_result",
     "data": {
      "text/plain": "                      AUC\nlightgbm-opt      0.76460\nh2o               0.77646\nlightgbm-default  0.77954\ntpot              0.78164\ncatboost-default  0.78374\nAuto_ml           0.79252",
      "text/html": "<div>\n<style scoped>\n    .dataframe tbody tr th:only-of-type {\n        vertical-align: middle;\n    }\n\n    .dataframe tbody tr th {\n        vertical-align: top;\n    }\n\n    .dataframe thead th {\n        text-align: right;\n    }\n</style>\n<table border=\"1\" class=\"dataframe\">\n  <thead>\n    <tr style=\"text-align: right;\">\n      <th></th>\n      <th>AUC</th>\n    </tr>\n  </thead>\n  <tbody>\n    <tr>\n      <th>lightgbm-opt</th>\n      <td>0.76460</td>\n    </tr>\n    <tr>\n      <th>h2o</th>\n      <td>0.77646</td>\n    </tr>\n    <tr>\n      <th>lightgbm-default</th>\n      <td>0.77954</td>\n    </tr>\n    <tr>\n      <th>tpot</th>\n      <td>0.78164</td>\n    </tr>\n    <tr>\n      <th>catboost-default</th>\n      <td>0.78374</td>\n    </tr>\n    <tr>\n      <th>Auto_ml</th>\n      <td>0.79252</td>\n    </tr>\n  </tbody>\n</table>\n</div>"
     },
     "metadata": {},
     "execution_count": 15
    }
   ],
   "source": [
    "res"
   ]
  },
  {
   "cell_type": "code",
   "execution_count": null,
   "metadata": {},
   "outputs": [],
   "source": []
  }
 ],
 "metadata": {
  "language_info": {
   "name": "python",
   "codemirror_mode": {
    "name": "ipython",
    "version": 3
   },
   "version": "3.7.4-final"
  },
  "orig_nbformat": 2,
  "file_extension": ".py",
  "mimetype": "text/x-python",
  "name": "python",
  "npconvert_exporter": "python",
  "pygments_lexer": "ipython3",
  "version": 3,
  "kernelspec": {
   "name": "python3",
   "display_name": "Python 3"
  }
 },
 "nbformat": 4,
 "nbformat_minor": 2
}